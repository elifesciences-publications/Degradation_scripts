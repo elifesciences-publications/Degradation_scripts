{
 "cells": [
  {
   "cell_type": "markdown",
   "metadata": {},
   "source": [
    "## Compares U fraction in RNA classes"
   ]
  },
  {
   "cell_type": "code",
   "execution_count": 1,
   "metadata": {},
   "outputs": [],
   "source": [
    "import pybedtools \n",
    "import sys\n",
    "import numpy as np\n",
    "import pandas as pd\n",
    "import os\n",
    "import itertools\n",
    "import math\n",
    "import matplotlib.pyplot as plt\n",
    "from itertools import chain\n",
    "import matplotlib\n",
    "import seaborn as sns; sns.set(color_codes=True)\n",
    "from matplotlib.colors import LinearSegmentedColormap\n",
    "from collections import Counter  \n",
    "\n",
    "%matplotlib inline"
   ]
  },
  {
   "cell_type": "markdown",
   "metadata": {},
   "source": [
    "#### set parameters"
   ]
  },
  {
   "cell_type": "code",
   "execution_count": 2,
   "metadata": {},
   "outputs": [],
   "source": [
    "home_dir = '/home/salma/Coding/cluster' \n",
    "\n",
    "pipeline_dir = os.path.join(home_dir, 'pipeline')\n",
    "plotting_dir = os.path.join(home_dir, 'plots/Enrichment_analysis')\n",
    "analysis_dir = os.path.join(home_dir, 'data_analysis')\n",
    "\n",
    "all_yeast = pybedtools.BedTool(os.path.join(home_dir, 'Annotations/saccharomyces_cerevisiae.gff')).remove_invalid().saveas()"
   ]
  },
  {
   "cell_type": "code",
   "execution_count": 3,
   "metadata": {},
   "outputs": [],
   "source": [
    "all_features = pd.read_csv(os.path.join(home_dir, \"Annotations/salma/all_features_utr.bed\"), sep = '\\t', header = None)\n",
    "all_features.columns = ['chr','start','end','type','strand','s1','s2']"
   ]
  },
  {
   "cell_type": "code",
   "execution_count": 4,
   "metadata": {},
   "outputs": [],
   "source": [
    "#bed file to fasta file\n",
    "#bedtools getfasta -s -fi ~/CLIP/Reference_genome/WholeGenomeFasta/genome.fa -bed ~/CLIP/Annotations/salma/all_features_utr.bed -fo ~/CLIP/Annotations/salma/all_features_utr.fa"
   ]
  },
  {
   "cell_type": "markdown",
   "metadata": {},
   "source": [
    "#### parse fasta file"
   ]
  },
  {
   "cell_type": "code",
   "execution_count": 5,
   "metadata": {},
   "outputs": [],
   "source": [
    "def fasta_parser(filename):\n",
    "    with open(filename, 'r') as f:\n",
    "        s = f.readlines()\n",
    "    seqs = list(map(str.rstrip, s[1::2]))\n",
    "    headers = list(map(str.rstrip, s[0::2]))\n",
    "    return pd.DataFrame(np.column_stack([headers, seqs]), columns=['header', 'seq'])"
   ]
  },
  {
   "cell_type": "code",
   "execution_count": 6,
   "metadata": {},
   "outputs": [],
   "source": [
    "seqs = fasta_parser(os.path.join(home_dir, 'Annotations/salma/all_features_utr.fa'))"
   ]
  },
  {
   "cell_type": "code",
   "execution_count": 7,
   "metadata": {},
   "outputs": [
    {
     "data": {
      "text/plain": [
       "18820"
      ]
     },
     "execution_count": 7,
     "metadata": {},
     "output_type": "execute_result"
    }
   ],
   "source": [
    "len(seqs)"
   ]
  },
  {
   "cell_type": "code",
   "execution_count": 8,
   "metadata": {},
   "outputs": [],
   "source": [
    "features = all_features.loc[all_features.chr!='chrmt',:]\n",
    "features = features.loc[features.end-features.start!=0,:]"
   ]
  },
  {
   "cell_type": "code",
   "execution_count": 9,
   "metadata": {},
   "outputs": [
    {
     "data": {
      "text/plain": [
       "18820"
      ]
     },
     "execution_count": 9,
     "metadata": {},
     "output_type": "execute_result"
    }
   ],
   "source": [
    "len(features)"
   ]
  },
  {
   "cell_type": "code",
   "execution_count": 10,
   "metadata": {},
   "outputs": [],
   "source": [
    "features['seq'] = seqs.seq"
   ]
  },
  {
   "cell_type": "code",
   "execution_count": 11,
   "metadata": {},
   "outputs": [],
   "source": [
    "grouped = {k: v for k, v in features.groupby(features.type)}"
   ]
  },
  {
   "cell_type": "code",
   "execution_count": 12,
   "metadata": {},
   "outputs": [],
   "source": [
    "def count_bases(feature_df):\n",
    "    seq_appended = ''.join(x for x in list(feature_df.seq.values) if x is not np.nan)\n",
    "    return(Counter(seq_appended))"
   ]
  },
  {
   "cell_type": "code",
   "execution_count": 13,
   "metadata": {},
   "outputs": [],
   "source": [
    "counts={}\n",
    "ratios={}\n",
    "for f in features.type.unique():\n",
    "    counts[f] = count_bases(grouped[f])\n",
    "    ratios[f] = counts[f]['T']/(counts[f]['A']+counts[f]['C']+counts[f]['G']+counts[f]['T'])"
   ]
  },
  {
   "cell_type": "code",
   "execution_count": 14,
   "metadata": {},
   "outputs": [
    {
     "data": {
      "text/plain": [
       "{'CDS': 0.2774841777110248,\n",
       " 'CUTs': 0.32506526498989446,\n",
       " 'NUTs': 0.32644245485154577,\n",
       " 'SUTs': 0.30310114405114097,\n",
       " 'UTR3': 0.3601493721936622,\n",
       " 'UTR5': 0.29949305809280236,\n",
       " 'intron': 0.3273741279804124,\n",
       " 'rRNA_gene': 0.2910902047592695,\n",
       " 'snRNA_gene': 0.3215434083601286,\n",
       " 'snoRNA_gene': 0.2983466468511982,\n",
       " 'tRNA_gene': 0.29259790855033835}"
      ]
     },
     "execution_count": 14,
     "metadata": {},
     "output_type": "execute_result"
    }
   ],
   "source": [
    "ratios"
   ]
  },
  {
   "cell_type": "code",
   "execution_count": 15,
   "metadata": {},
   "outputs": [],
   "source": [
    "order=['UTR5', 'CDS', 'intron', 'UTR3','rRNA_gene', 'tRNA_gene','snoRNA_gene', 'snRNA_gene','SUTs', 'CUTs', 'NUTs']"
   ]
  },
  {
   "cell_type": "code",
   "execution_count": 17,
   "metadata": {},
   "outputs": [
    {
     "data": {
      "image/png": "[encoded data removed]",
      "text/plain": [
       "<matplotlib.figure.Figure at 0x7f04d3858630>"
      ]
     },
     "metadata": {},
     "output_type": "display_data"
    }
   ],
   "source": [
    "fig, ax = plt.subplots(figsize=(7,3))\n",
    "sns.set_style(\"ticks\")\n",
    "plt.bar(np.arange(len(order)), [ratios[o] for o in order], linewidth=1, edgecolor='black')\n",
    "xt=plt.xticks(np.arange(len(order)), order, rotation=90, fontsize=12)\n",
    "ax.set_ylabel('U fraction')\n",
    "sns.despine()\n",
    "plt.savefig(os.path.join(plotting_dir,'U_fraction.pdf'), bbox_inches='tight')"
   ]
  }
 ],
 "metadata": {
  "kernelspec": {
   "display_name": "Python [default]",
   "language": "python",
   "name": "python3"
  },
  "language_info": {
   "codemirror_mode": {
    "name": "ipython",
    "version": 3
   },
   "file_extension": ".py",
   "mimetype": "text/x-python",
   "name": "python",
   "nbconvert_exporter": "python",
   "pygments_lexer": "ipython3",
   "version": "3.6.4"
  }
 },
 "nbformat": 4,
 "nbformat_minor": 2
}
